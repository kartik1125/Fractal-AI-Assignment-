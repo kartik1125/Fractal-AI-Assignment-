{
 "cells": [
  {
   "cell_type": "markdown",
   "id": "313638f9-eaf6-4509-b919-629aa0d0fa67",
   "metadata": {},
   "source": [
    "### PYQ -1    Q. Merge the three data sets  with sales, TV GRPs & Video Impressions\t\t\t\t\t\t\t\t\t\n"
   ]
  },
  {
   "cell_type": "code",
   "execution_count": 1,
   "id": "76d06cbb-ee17-4964-8b71-4bbc68e421bc",
   "metadata": {},
   "outputs": [],
   "source": [
    "### Importing Library\n",
    "import pandas as pd\n"
   ]
  },
  {
   "cell_type": "code",
   "execution_count": null,
   "id": "493943c8-e120-4e65-a3a5-60a4b3eeda5f",
   "metadata": {},
   "outputs": [],
   "source": [
    "\n",
    "# Sales data\n",
    "sales_data = {\n",
    "    'Timestamp': ['2021-07-21 00:00', '2021-07-28 00:00', '2021-08-04 00:00', '2021-08-11 00:00',\n",
    "                  '2021-08-18 00:00', '2021-08-25 00:00', '2021-09-01 00:00', '2021-09-08 00:00',\n",
    "                  '2021-09-15 00:00', '2021-09-22 00:00', '2021-09-29 00:00', '2021-10-06 00:00',\n",
    "                  '2021-10-13 00:00'],\n",
    "    'Sales': [129420, 150990, 107850, 53925, 215700, 291195, 107850, 312765, 431400,\n",
    "              97065, 204915, 215700, 53925]\n",
    "}\n",
    "\n",
    "# TV GRPs data\n",
    "tv_grps_data = {\n",
    "    'Timestamp': ['2021-08-04 00:00', '2021-08-11 00:00', '2021-08-18 00:00',\n",
    "                  '2021-08-25 00:00', '2021-09-01 00:00'],\n",
    "    'TV_GRPs': [5, 17, 25, 29, 23]\n",
    "}\n",
    "\n",
    "# Video Impressions data\n",
    "video_impressions_data = {\n",
    "    'Timestamp': ['2021-07-21 00:00', '2021-07-28 00:00', '2021-08-04 00:00',\n",
    "                  '2021-08-11 00:00', '2021-08-18 00:00', '2021-08-25 00:00',\n",
    "                  '2021-09-01 00:00'],\n",
    "    'Video_Impressions': [2500, 5000, 10000, 7500, 11250, 7000, 5750]\n",
    "}\n",
    "\n",
    "# Covert to dataframes \n",
    "df_sales = pd.DataFrame(sales_data)\n",
    "df_tv = pd.DataFrame(tv_grps_data)\n",
    "df_video = pd.DataFrame(video_impressions_data)\n",
    "\n",
    "# Convert Timestamp to datetime\n",
    "df_sales['Timestamp'] = pd.to_datetime(df_sales['Timestamp'])\n",
    "df_tv['Timestamp'] = pd.to_datetime(df_tv['Timestamp'])\n",
    "df_video['Timestamp'] = pd.to_datetime(df_video['Timestamp'])\n",
    "\n",
    "\n"
   ]
  },
  {
   "cell_type": "markdown",
   "id": "79799020-1243-4a7e-ab08-119834ad0d48",
   "metadata": {},
   "source": [
    "#####  In the code above, we first converted the data into DataFrames and then converted the Timestamp column to datetime format to enable accurate time-based calculations and merging."
   ]
  },
  {
   "cell_type": "code",
   "execution_count": 3,
   "id": "59c6d8b6-0ec3-4a81-ad6a-9842d0654338",
   "metadata": {},
   "outputs": [],
   "source": [
    "### Merged the data frames \n",
    "\n",
    "# Merge sales and TV GRPs\n",
    "merged_df = pd.merge(df_sales, df_tv, on='Timestamp', how='outer')\n",
    "\n",
    "# Merge with Video Impressions\n",
    "merged_df = pd.merge(merged_df, df_video, on='Timestamp', how='outer')\n",
    "\n",
    "# Sort by Timestamp\n",
    "merged_df = merged_df.sort_values('Timestamp').reset_index(drop=True)\n"
   ]
  },
  {
   "cell_type": "code",
   "execution_count": 5,
   "id": "8852fcf8-d307-4698-9c97-f47184279520",
   "metadata": {},
   "outputs": [
    {
     "name": "stdout",
     "output_type": "stream",
     "text": [
      "    Timestamp   Sales  TV_GRPs  Video_Impressions\n",
      "0  2021-07-21  129420      NaN             2500.0\n",
      "1  2021-07-28  150990      NaN             5000.0\n",
      "2  2021-08-04  107850      5.0            10000.0\n",
      "3  2021-08-11   53925     17.0             7500.0\n",
      "4  2021-08-18  215700     25.0            11250.0\n",
      "5  2021-08-25  291195     29.0             7000.0\n",
      "6  2021-09-01  107850     23.0             5750.0\n",
      "7  2021-09-08  312765      NaN                NaN\n",
      "8  2021-09-15  431400      NaN                NaN\n",
      "9  2021-09-22   97065      NaN                NaN\n",
      "10 2021-09-29  204915      NaN                NaN\n",
      "11 2021-10-06  215700      NaN                NaN\n",
      "12 2021-10-13   53925      NaN                NaN\n"
     ]
    }
   ],
   "source": [
    "### Final output after merger \n",
    "\n",
    "print(merged_df)\n"
   ]
  },
  {
   "cell_type": "code",
   "execution_count": null,
   "id": "7b46a94a-4da7-41f1-8756-0fbccc36fa99",
   "metadata": {},
   "outputs": [],
   "source": []
  },
  {
   "cell_type": "code",
   "execution_count": null,
   "id": "a8bd1948-9443-4614-a6c6-0446425b17ca",
   "metadata": {},
   "outputs": [],
   "source": []
  },
  {
   "cell_type": "code",
   "execution_count": null,
   "id": "1b42fa13-81ef-4909-975f-f8d7e5940067",
   "metadata": {},
   "outputs": [],
   "source": []
  },
  {
   "cell_type": "code",
   "execution_count": null,
   "id": "8f48fd89-76fe-4f0d-b9de-66acbaf17d9d",
   "metadata": {},
   "outputs": [],
   "source": []
  }
 ],
 "metadata": {
  "kernelspec": {
   "display_name": "Python 3 (ipykernel)",
   "language": "python",
   "name": "python3"
  },
  "language_info": {
   "codemirror_mode": {
    "name": "ipython",
    "version": 3
   },
   "file_extension": ".py",
   "mimetype": "text/x-python",
   "name": "python",
   "nbconvert_exporter": "python",
   "pygments_lexer": "ipython3",
   "version": "3.12.4"
  }
 },
 "nbformat": 4,
 "nbformat_minor": 5
}
