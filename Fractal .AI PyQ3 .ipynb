{
 "cells": [
  {
   "cell_type": "code",
   "execution_count": 10,
   "id": "43e8e227-9344-470b-a451-71b7697df8d2",
   "metadata": {},
   "outputs": [
    {
     "name": "stdout",
     "output_type": "stream",
     "text": [
      "           Name    Salary   Age   Function\n",
      "0    Employee_1   58495.0  45.0         HR\n",
      "1    Employee_2   38784.0  48.0      Sales\n",
      "2    Employee_3  120000.0  34.0    Manager\n",
      "3    Employee_4   60300.0  35.0    Manager\n",
      "4    Employee_5   46788.0  29.0         HR\n",
      "5    Employee_6   95098.0  36.0      Sales\n",
      "6    Employee_7   61550.0  29.0    Manager\n",
      "7    Employee_8   38155.0  23.0         HR\n",
      "8    Employee_9   55480.0  29.0      Sales\n",
      "9   Employee_10   49398.0  25.0         HR\n",
      "10  Employee_11   64108.0  54.0      Sales\n",
      "11  Employee_12   38394.0  29.0  Developer\n",
      "12  Employee_13   46672.0  23.0  Developer\n",
      "13  Employee_14   20000.0  54.0      Sales\n",
      "14  Employee_15   87095.0  23.0         HR\n",
      "15  Employee_16   57055.0  41.0      Sales\n",
      "16  Employee_17   47194.0  45.0  Developer\n",
      "17  Employee_18   66267.0  22.0  Developer\n",
      "18  Employee_19   83203.0  49.0         HR\n",
      "19  Employee_20   44490.0  27.0      Sales\n",
      "20  Employee_21   48817.0  27.0         HR\n",
      "21  Employee_22   37380.0  28.0    Manager\n",
      "22  Employee_23   53403.0  33.0         HR\n",
      "23  Employee_24   80283.0  31.0      Sales\n",
      "24  Employee_25   80000.0  27.0         HR\n",
      "25  Employee_26   52704.0  36.0      Sales\n",
      "26  Employee_27   56186.0  30.0  Developer\n",
      "27  Employee_28   56516.0  24.0  Developer\n",
      "28  Employee_29   45401.0  29.0         HR\n",
      "29  Employee_30       NaN   NaN        NaN\n"
     ]
    }
   ],
   "source": [
    "import pandas as pd\n",
    "import numpy as np\n",
    "\n",
    "data = {\n",
    "    'Name': ['Employee_1', 'Employee_2', 'Employee_3', 'Employee_4', 'Employee_5',\n",
    "             'Employee_6', 'Employee_7', 'Employee_8', 'Employee_9', 'Employee_10',\n",
    "             'Employee_11', 'Employee_12', 'Employee_13', 'Employee_14', 'Employee_15',\n",
    "             'Employee_16', 'Employee_17', 'Employee_18', 'Employee_19', 'Employee_20',\n",
    "             'Employee_21', 'Employee_22', 'Employee_23', 'Employee_24', 'Employee_25',\n",
    "             'Employee_26', 'Employee_27', 'Employee_28', 'Employee_29', 'Employee_30'],\n",
    "\n",
    "    'Salary': [58495.0, 38784.0, 120000.0, 60300.0, 46788.0,\n",
    "               95098.0, 61550.0, 38155.0, 55480.0, 49398.0,\n",
    "               64108.0, 38394.0, 46672.0, 20000.0, 87095.0,\n",
    "               57055.0, 47194.0, 66267.0, 83203.0, 44490.0,\n",
    "               48817.0, 37380.0, 53403.0, 80283.0, 80000.0,\n",
    "               52704.0, 56186.0, 56516.0, 45401.0, np.nan],  # We add np.nan in datasets to simulate missing values\n",
    "\n",
    "    'Age': [45, 48, 34, 35, 29, 36, 29, 23, 29, 25,\n",
    "            54, 29, 23, 54, 23, 41, 45, 22, 49, 27,\n",
    "            27, 28, 33, 31, 27, 36, 30, 24, 29, np.nan],  # We add np.nan in datasets to simulate missing values\n",
    "\n",
    "    'Function': ['HR', 'Sales', 'Manager', 'Manager', 'HR',\n",
    "                 'Sales', 'Manager', 'HR', 'Sales', 'HR',\n",
    "                 'Sales', 'Developer', 'Developer', 'Sales', 'HR',\n",
    "                 'Sales', 'Developer', 'Developer', 'HR', 'Sales',\n",
    "                 'HR', 'Manager', 'HR', 'Sales', 'HR',\n",
    "                 'Sales', 'Developer', 'Developer', 'HR', np.nan]  # added np.nan\n",
    "}\n",
    "\n",
    "# Convert to DataFrame\n",
    "df = pd.DataFrame(data)\n",
    "\n",
    "# Display the DataFrame\n",
    "print(df)\n"
   ]
  },
  {
   "cell_type": "code",
   "execution_count": null,
   "id": "995a69fc-e6ec-492e-8288-45d52016d2d5",
   "metadata": {},
   "outputs": [],
   "source": [
    "### Question 1 -create a new column Age_Bucketed, which will categorize ages under:\n",
    "\"<20 years\",\n",
    "\"20-30 years\",\n",
    "\"30-40 years\",\n",
    "\"40-50 years\",\n",
    "\">50 years\"\n"
   ]
  },
  {
   "cell_type": "code",
   "execution_count": 2,
   "id": "035582d0-6c26-4bb2-ab92-47be6d69b87a",
   "metadata": {},
   "outputs": [
    {
     "name": "stdout",
     "output_type": "stream",
     "text": [
      "           Name   Age Age_Bucketed\n",
      "0    Employee_1  45.0  40-50 years\n",
      "1    Employee_2  48.0  40-50 years\n",
      "2    Employee_3  34.0  30-40 years\n",
      "3    Employee_4  35.0  30-40 years\n",
      "4    Employee_5  29.0  20-30 years\n",
      "5    Employee_6  36.0  30-40 years\n",
      "6    Employee_7  29.0  20-30 years\n",
      "7    Employee_8  23.0  20-30 years\n",
      "8    Employee_9  29.0  20-30 years\n",
      "9   Employee_10  25.0  20-30 years\n",
      "10  Employee_11  54.0    >50 years\n",
      "11  Employee_12  29.0  20-30 years\n",
      "12  Employee_13  23.0  20-30 years\n",
      "13  Employee_14  54.0    >50 years\n",
      "14  Employee_15  23.0  20-30 years\n",
      "15  Employee_16  41.0  40-50 years\n",
      "16  Employee_17  45.0  40-50 years\n",
      "17  Employee_18  22.0  20-30 years\n",
      "18  Employee_19  49.0  40-50 years\n",
      "19  Employee_20  27.0  20-30 years\n",
      "20  Employee_21  27.0  20-30 years\n",
      "21  Employee_22  28.0  20-30 years\n",
      "22  Employee_23  33.0  30-40 years\n",
      "23  Employee_24  31.0  30-40 years\n",
      "24  Employee_25  27.0  20-30 years\n",
      "25  Employee_26  36.0  30-40 years\n",
      "26  Employee_27  30.0  30-40 years\n",
      "27  Employee_28  24.0  20-30 years\n",
      "28  Employee_29  29.0  20-30 years\n",
      "29  Employee_30   NaN          NaN\n"
     ]
    }
   ],
   "source": [
    "# Define bins and labels\n",
    "bins = [0, 20, 30, 40, 50, np.inf]\n",
    "labels = [\"<20 years\", \"20-30 years\", \"30-40 years\", \"40-50 years\", \">50 years\"]\n",
    "\n",
    "# Create Age_Bucketed column\n",
    "df['Age_Bucketed'] = pd.cut(df['Age'], bins=bins, labels=labels, right=False)\n",
    "\n",
    "# Display the DataFrame with new column\n",
    "print(df[['Name', 'Age', 'Age_Bucketed']])\n"
   ]
  },
  {
   "cell_type": "code",
   "execution_count": 9,
   "id": "031f1dfd-3fb9-4164-82d0-66cb30d8266e",
   "metadata": {},
   "outputs": [],
   "source": [
    "## Question 2 - Create a new column to generate function codes for each function using department df\n"
   ]
  },
  {
   "cell_type": "code",
   "execution_count": 7,
   "id": "d632f1be-dec1-490d-acb7-34bd4ced4534",
   "metadata": {},
   "outputs": [
    {
     "name": "stdout",
     "output_type": "stream",
     "text": [
      "           Name   Function  Function_Code\n",
      "0    Employee_1         HR            1.0\n",
      "1    Employee_2      Sales            2.0\n",
      "2    Employee_3    Manager            3.0\n",
      "3    Employee_4    Manager            3.0\n",
      "4    Employee_5         HR            1.0\n",
      "5    Employee_6      Sales            2.0\n",
      "6    Employee_7    Manager            3.0\n",
      "7    Employee_8         HR            1.0\n",
      "8    Employee_9      Sales            2.0\n",
      "9   Employee_10         HR            1.0\n",
      "10  Employee_11      Sales            2.0\n",
      "11  Employee_12  Developer            4.0\n",
      "12  Employee_13  Developer            4.0\n",
      "13  Employee_14      Sales            2.0\n",
      "14  Employee_15         HR            1.0\n",
      "15  Employee_16      Sales            2.0\n",
      "16  Employee_17  Developer            4.0\n",
      "17  Employee_18  Developer            4.0\n",
      "18  Employee_19         HR            1.0\n",
      "19  Employee_20      Sales            2.0\n",
      "20  Employee_21         HR            1.0\n",
      "21  Employee_22    Manager            3.0\n",
      "22  Employee_23         HR            1.0\n",
      "23  Employee_24      Sales            2.0\n",
      "24  Employee_25         HR            1.0\n",
      "25  Employee_26      Sales            2.0\n",
      "26  Employee_27  Developer            4.0\n",
      "27  Employee_28  Developer            4.0\n",
      "28  Employee_29         HR            1.0\n",
      "29  Employee_30        NaN            NaN\n"
     ]
    }
   ],
   "source": [
    "#  Create a department DataFrame with unique Function and corresponding Function_Code\n",
    "department_df = pd.DataFrame({\n",
    "    'Function': df['Function'].dropna().unique()\n",
    "})\n",
    "department_df['Function_Code'] = range(1, len(department_df) + 1)\n",
    "\n",
    "#  Merge the department_df with the original df on 'Function'\n",
    "df = df.merge(department_df, on='Function', how='left')\n",
    "\n",
    "# Display the result\n",
    "print(df[['Name', 'Function', 'Function_Code']])\n"
   ]
  },
  {
   "cell_type": "code",
   "execution_count": null,
   "id": "bfb6ddd8-66af-4c28-b057-f5421dcece42",
   "metadata": {},
   "outputs": [],
   "source": [
    "## Question 3 - Create a new column to find outliers in the df: \"Outlier\", \"Not an Outlier\""
   ]
  },
  {
   "cell_type": "code",
   "execution_count": 5,
   "id": "d4fedb70-7baf-450b-bb8d-a12ca994066f",
   "metadata": {},
   "outputs": [
    {
     "name": "stdout",
     "output_type": "stream",
     "text": [
      "           Name    Salary         Outlier\n",
      "0    Employee_1   58495.0  Not an Outlier\n",
      "1    Employee_2   38784.0  Not an Outlier\n",
      "2    Employee_3  120000.0         Outlier\n",
      "3    Employee_4   60300.0  Not an Outlier\n",
      "4    Employee_5   46788.0  Not an Outlier\n",
      "5    Employee_6   95098.0         Outlier\n",
      "6    Employee_7   61550.0  Not an Outlier\n",
      "7    Employee_8   38155.0  Not an Outlier\n",
      "8    Employee_9   55480.0  Not an Outlier\n",
      "9   Employee_10   49398.0  Not an Outlier\n",
      "10  Employee_11   64108.0  Not an Outlier\n",
      "11  Employee_12   38394.0  Not an Outlier\n",
      "12  Employee_13   46672.0  Not an Outlier\n",
      "13  Employee_14   20000.0         Outlier\n",
      "14  Employee_15   87095.0  Not an Outlier\n",
      "15  Employee_16   57055.0  Not an Outlier\n",
      "16  Employee_17   47194.0  Not an Outlier\n",
      "17  Employee_18   66267.0  Not an Outlier\n",
      "18  Employee_19   83203.0  Not an Outlier\n",
      "19  Employee_20   44490.0  Not an Outlier\n",
      "20  Employee_21   48817.0  Not an Outlier\n",
      "21  Employee_22   37380.0  Not an Outlier\n",
      "22  Employee_23   53403.0  Not an Outlier\n",
      "23  Employee_24   80283.0  Not an Outlier\n",
      "24  Employee_25   80000.0  Not an Outlier\n",
      "25  Employee_26   52704.0  Not an Outlier\n",
      "26  Employee_27   56186.0  Not an Outlier\n",
      "27  Employee_28   56516.0  Not an Outlier\n",
      "28  Employee_29   45401.0  Not an Outlier\n",
      "29  Employee_30       NaN  Not an Outlier\n"
     ]
    }
   ],
   "source": [
    "# we will calculate  Q1 and Q3 for the Salary column (excluding NaN)\n",
    "Q1 = df['Salary'].quantile(0.25)\n",
    "Q3 = df['Salary'].quantile(0.75)\n",
    "IQR = Q3 - Q1\n",
    "\n",
    "# Define lower and upper bounds\n",
    "lower_bound = Q1 - 1.5 * IQR\n",
    "upper_bound = Q3 + 1.5 * IQR\n",
    "\n",
    "# will Create 'Outlier' column\n",
    "df['Outlier'] = df['Salary'].apply(\n",
    "    lambda x: 'Outlier' if pd.notnull(x) and (x < lower_bound or x > upper_bound) else 'Not an Outlier'\n",
    ")\n",
    "\n",
    "# we will display  DataFrame with Outlier column\n",
    "print(df[['Name', 'Salary', 'Outlier']])\n"
   ]
  },
  {
   "cell_type": "code",
   "execution_count": null,
   "id": "2c3b5cdb-3cf2-4d10-9741-665c28eeb04d",
   "metadata": {},
   "outputs": [],
   "source": []
  },
  {
   "cell_type": "code",
   "execution_count": null,
   "id": "b6b59f4a-69f3-405b-a9b6-86d528ae3bff",
   "metadata": {},
   "outputs": [],
   "source": []
  },
  {
   "cell_type": "code",
   "execution_count": null,
   "id": "ea97b096-f968-4d29-8863-8bf70b08b12c",
   "metadata": {},
   "outputs": [],
   "source": []
  }
 ],
 "metadata": {
  "kernelspec": {
   "display_name": "Python 3 (ipykernel)",
   "language": "python",
   "name": "python3"
  },
  "language_info": {
   "codemirror_mode": {
    "name": "ipython",
    "version": 3
   },
   "file_extension": ".py",
   "mimetype": "text/x-python",
   "name": "python",
   "nbconvert_exporter": "python",
   "pygments_lexer": "ipython3",
   "version": "3.12.4"
  }
 },
 "nbformat": 4,
 "nbformat_minor": 5
}
